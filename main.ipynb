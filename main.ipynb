{
 "cells": [
  {
   "cell_type": "code",
   "execution_count": 1,
   "metadata": {},
   "outputs": [],
   "source": [
    "# 导入所有的库\n",
    "%matplotlib inline\n",
    "from keras.datasets import mnist\n",
    "import numpy as np\n",
    "import matplotlib.pyplot as plt\n",
    "import os"
   ]
  },
  {
   "cell_type": "code",
   "execution_count": 2,
   "metadata": {},
   "outputs": [
    {
     "name": "stdout",
     "output_type": "stream",
     "text": [
      "Numbers of training images:60000\n",
      "Numbers of testing images:10000\n"
     ]
    }
   ],
   "source": [
    "# 导入数据集\n",
    "(x_train, y_train), (x_test, y_test) = mnist.load_data()\n",
    "print(\"Numbers of training images:\" + str(x_train.shape[0]))\n",
    "print(\"Numbers of testing images:\" + str(x_test.shape[0]))"
   ]
  },
  {
   "cell_type": "code",
   "execution_count": 3,
   "metadata": {},
   "outputs": [],
   "source": [
    "# 数据预处理函数定义\n",
    "def data_processing(x, y):\n",
    "    def one_hot(y):\n",
    "        table = np.zeros((y.shape[0], 10))\n",
    "        for i in range(y.shape[0]):\n",
    "            table[i][int(y[i])] = 1\n",
    "        return table\n",
    "\n",
    "    def normalize(x):\n",
    "        x = x / 255\n",
    "        k, m, n = x.shape[0], x.shape[1], x.shape[2]\n",
    "        x = x.reshape(k, m * n)\n",
    "        x = x.astype('float32')\n",
    "        return x\n",
    "\n",
    "    return normalize(x), one_hot(y)"
   ]
  },
  {
   "cell_type": "code",
   "execution_count": 4,
   "metadata": {},
   "outputs": [],
   "source": [
    "# 进行数据集格式预处理\n",
    "x_train, y_train = data_processing(x_train, y_train)\n",
    "x_test, y_test = data_processing(x_test, y_test)"
   ]
  },
  {
   "cell_type": "code",
   "execution_count": 5,
   "metadata": {},
   "outputs": [
    {
     "name": "stdout",
     "output_type": "stream",
     "text": [
      "(60000, 784)\n",
      "(60000, 10)\n"
     ]
    }
   ],
   "source": [
    "# 检验导入并预处理过的数据集\n",
    "print(x_train.shape)\n",
    "print(y_train.shape)"
   ]
  },
  {
   "cell_type": "code",
   "execution_count": 6,
   "metadata": {},
   "outputs": [],
   "source": [
    "# 搭建两层神经网络模型\n",
    "\n",
    "class TwoLayerNeuralNetwork:\n",
    "    def __init__(self, x, y, hidden_cells=128, batch=64, lr=5e-3, epochs=50, lambd=0.01, decay_rate=0.01):\n",
    "        self.input = x\n",
    "        self.target = y\n",
    "        self.hidden_cells = hidden_cells\n",
    "        self.batch = batch\n",
    "        self.epochs = epochs\n",
    "        self.lr = lr\n",
    "        self.lambd = lambd\n",
    "        self.decay_rate = decay_rate\n",
    "\n",
    "        self.x = self.input[:self.batch]  # batch输入\n",
    "        self.y = self.target[:self.batch]  # batch标签\n",
    "        self.loss = []  # loss\n",
    "        self.acc = []  # accuracy\n",
    "\n",
    "        self.init_weights()\n",
    "\n",
    "    def init_weights(self):  # 这里的几个w和b设置初始化，后面要改的\n",
    "        self.w1 = np.random.randn(\n",
    "            self.input.shape[1], self.hidden_cells)  # 设置的hidden_size\n",
    "        self.w2 = np.random.randn(self.w1.shape[1], self.y.shape[1])  # 这里要重新填\n",
    "\n",
    "        self.b1 = np.random.randn(self.w1.shape[1],)\n",
    "        self.b2 = np.random.randn(self.w2.shape[1],)\n",
    "\n",
    "    def ReLU(self, x):\n",
    "        return np.maximum(0, x)\n",
    "\n",
    "    def dReLU(self, x):\n",
    "        return 1 * (x > 0)\n",
    "\n",
    "    def softmax(self, z):\n",
    "        z = z - np.max(z, axis=1).reshape(z.shape[0], 1)\n",
    "        return np.exp(z) / np.sum(np.exp(z), axis=1).reshape(z.shape[0], 1)\n",
    "\n",
    "    def shuffle(self):\n",
    "        idx = [i for i in range(self.input.shape[0])]\n",
    "        np.random.shuffle(idx)\n",
    "        self.input = self.input[idx]\n",
    "        self.target = self.target[idx]\n",
    "\n",
    "    def feedforward(self):\n",
    "        assert self.x.shape[1] == self.w1.shape[0]\n",
    "        self.z1 = self.x.dot(self.w1) + self.b1\n",
    "        self.a1 = self.ReLU(self.z1)\n",
    "\n",
    "        assert self.a1.shape[1] == self.w2.shape[0]\n",
    "        self.z2 = self.a1.dot(self.w2) + self.b2\n",
    "        self.a2 = self.softmax(self.z2)\n",
    "\n",
    "    def cross_entropy_loss(self):\n",
    "        delta = 1e-7  # 添加delta保证log有效性\n",
    "        cross_entropy_cost = - \\\n",
    "            np.sum(np.multiply(self.y, np.log(self.a2 + delta)))\n",
    "        return cross_entropy_cost / self.y.shape[0]\n",
    "\n",
    "    # def cross_entropy_loss(self):\n",
    "    #     a2 = self.a2\n",
    "    #     y = self.y\n",
    "    #     if a2.ndim == 1:\n",
    "    #         a2 = a2.reshape(1, a2.size)\n",
    "    #         y = y.reshape(1, y.size)\n",
    "\n",
    "    #     if a2.size == y.size:\n",
    "    #         y = y.argmax(axis=1)\n",
    "\n",
    "    #     batch_size = y.shape[0]\n",
    "    #     return -np.sum(np.log(a2[np.arange(batch_size), y] + 1e-7)) / batch_size\n",
    "\n",
    "    def backprop(self):  # 反向传播\n",
    "        self.error = self.a2 - self.y  # error\n",
    "        self.dcost = (1 / self.batch) * self.error  # dcost\n",
    "\n",
    "        self.dw2 = np.dot(self.dcost.T, self.a1).T + \\\n",
    "            self.lambd * self.w2  # 添加l2正则化项\n",
    "        self.dw1 = np.dot((np.dot((self.dcost), self.w2.T) *\n",
    "                           self.dReLU(self.z1)).T, self.x).T + self.lambd * self.w1  # 添加l2正则化项\n",
    "        self.db2 = np.sum(self.dcost, axis=0)\n",
    "        self.db1 = np.sum(np.dot((self.dcost), self.w2.T)\n",
    "                          * self.dReLU(self.z1), axis=0)\n",
    "\n",
    "    def optimizer(self, epoch):  # 使用SGD方法\n",
    "        assert self.dw2.shape == self.w2.shape\n",
    "        assert self.dw1.shape == self.w1.shape\n",
    "\n",
    "        assert self.db2.shape == self.b2.shape\n",
    "        assert self.db1.shape == self.b1.shape\n",
    "\n",
    "        self.weight_decay = 1 / (1 + self.decay_rate * epoch)\n",
    "\n",
    "        self.w2 = self.w2 - self.lr * self.weight_decay * self.dw2\n",
    "        self.w1 = self.w1 - self.lr * self.weight_decay * self.dw1\n",
    "\n",
    "        self.b2 = self.b2 - self.lr * self.weight_decay * self.db2\n",
    "        self.b1 = self.b1 - self.lr * self.weight_decay * self.db1\n",
    "        \n",
    "\n",
    "    def train(self, IS_PRINT=False):\n",
    "        for epoch in range(self.epochs):\n",
    "            loss = 0\n",
    "            loss_penalty = 0\n",
    "            acc = 0\n",
    "            self.shuffle()\n",
    "\n",
    "            for batch in range(self.input.shape[0]//self.batch-1):\n",
    "                start = batch * self.batch\n",
    "                end = (batch + 1) * self.batch\n",
    "                self.x = self.input[start:end]\n",
    "                self.y = self.target[start:end]\n",
    "                self.feedforward()\n",
    "                self.backprop()\n",
    "                self.optimizer(epoch)\n",
    "                loss += np.mean(self.error**2)  # 均方loss\n",
    "                loss_penalty += (np.sum(np.square(NN.w1)) +\n",
    "                                 np.sum(np.square(NN.w2))) * (NN.lambd / 2) / 64\n",
    "                acc += np.count_nonzero(np.argmax(self.a2, axis=1)\n",
    "                                        == np.argmax(self.y, axis=1)) / self.batch\n",
    "            # print(\"Loss_MSE:\", loss)\n",
    "            # print(\"Loss_Penalty:\", loss)\n",
    "            self.loss.append(\n",
    "                loss_penalty / self.input.shape[0] + loss / (self.input.shape[0] // self.batch))\n",
    "            self.acc.append(acc * 100 / (self.input.shape[0] // self.batch))\n",
    "            if (IS_PRINT):\n",
    "                print(\"Epoch:\\t\", epoch+1, \"\\tLoss:\\t\",\n",
    "                      self.loss[epoch], \"\\tAccuracy:\\t\", self.acc[epoch], '%')\n",
    "            # 保存模型\n",
    "            self.save_model(f\"model_{self.hidden_cells}_{self.lr}_{self.lambd}.npz\")\n",
    "\n",
    "    def test(self, x_test, y_test):\n",
    "        self.x = x_test\n",
    "        self.y = y_test\n",
    "        self.feedforward()\n",
    "\n",
    "        acc = np.count_nonzero(np.argmax(self.a2, axis=1)\n",
    "                               == np.argmax(self.y, axis=1)) / self.x.shape[0]\n",
    "        print(\"Accuracy:\", 100 * acc, '%')\n",
    "        return 100 * acc\n",
    "\n",
    "    def save_model(self, filename):\n",
    "        np.savez_compressed(\n",
    "            file = os.path.join(os.curdir, 'models', filename),\n",
    "            w1 = self.w1,\n",
    "            w2 = self.w2,\n",
    "            b1 = self.b1,\n",
    "            b2 = self.b2,\n",
    "        )\n",
    "\n",
    "    def load_models(self, filename):\n",
    "        params = np.load(os.path.join(os.curdir, 'models', filename), allow_pickle=True)\n",
    "        self.w1 = params['w1']\n",
    "        self.w2 = params['w2']\n",
    "        self.b1 = params['b1']\n",
    "        self.b2 = params['b2']\n",
    "\n",
    "    def plot_loss(self):\n",
    "        plt.plot(self.loss)\n",
    "\n",
    "    def plot_acc(self):\n",
    "        plt.plot(self.acc)"
   ]
  },
  {
   "cell_type": "code",
   "execution_count": 7,
   "metadata": {},
   "outputs": [
    {
     "name": "stdout",
     "output_type": "stream",
     "text": [
      "Epoch:\t 1 \tLoss:\t 0.050235346258034975 \tAccuracy:\t 79.47238527214515 %\n",
      "Epoch:\t 2 \tLoss:\t 0.03307255642507519 \tAccuracy:\t 87.25653681963713 %\n",
      "Epoch:\t 3 \tLoss:\t 0.028428947822841097 \tAccuracy:\t 88.83904749199573 %\n",
      "Epoch:\t 4 \tLoss:\t 0.02521657707435789 \tAccuracy:\t 89.76787620064034 %\n",
      "Epoch:\t 5 \tLoss:\t 0.022629935817514095 \tAccuracy:\t 90.63667289220918 %\n",
      "Epoch:\t 6 \tLoss:\t 0.020686860205890847 \tAccuracy:\t 91.15861792956244 %\n",
      "Epoch:\t 7 \tLoss:\t 0.018944042959380958 \tAccuracy:\t 91.83397812166488 %\n",
      "Epoch:\t 8 \tLoss:\t 0.017426823739863314 \tAccuracy:\t 92.33424493062967 %\n",
      "Epoch:\t 9 \tLoss:\t 0.016143082008620212 \tAccuracy:\t 92.8962113127001 %\n",
      "Epoch:\t 10 \tLoss:\t 0.014983573502898518 \tAccuracy:\t 93.31310032017076 %\n",
      "Epoch:\t 11 \tLoss:\t 0.014005474950134066 \tAccuracy:\t 93.6449439701174 %\n",
      "Epoch:\t 12 \tLoss:\t 0.01317465988425069 \tAccuracy:\t 93.92509338313768 %\n",
      "Epoch:\t 13 \tLoss:\t 0.012369889545415 \tAccuracy:\t 94.17522678762006 %\n",
      "Epoch:\t 14 \tLoss:\t 0.011704658979467689 \tAccuracy:\t 94.49372998932765 %\n",
      "Epoch:\t 15 \tLoss:\t 0.011032755597805045 \tAccuracy:\t 94.67716115261473 %\n",
      "Epoch:\t 16 \tLoss:\t 0.010434434070081003 \tAccuracy:\t 94.95064034151548 %\n",
      "Epoch:\t 17 \tLoss:\t 0.009834558998571757 \tAccuracy:\t 95.16575506937033 %\n",
      "Epoch:\t 18 \tLoss:\t 0.009381326250655984 \tAccuracy:\t 95.32584044823906 %\n",
      "Epoch:\t 19 \tLoss:\t 0.008929121266859947 \tAccuracy:\t 95.48759338313768 %\n",
      "Epoch:\t 20 \tLoss:\t 0.008493214904441864 \tAccuracy:\t 95.64934631803628 %\n",
      "Epoch:\t 21 \tLoss:\t 0.008076546308407598 \tAccuracy:\t 95.87113127001068 %\n",
      "Epoch:\t 22 \tLoss:\t 0.007701130167840727 \tAccuracy:\t 95.99119530416222 %\n",
      "Epoch:\t 23 \tLoss:\t 0.007353792208388088 \tAccuracy:\t 96.1662886872999 %\n",
      "Epoch:\t 24 \tLoss:\t 0.007043749648411778 \tAccuracy:\t 96.29802561366061 %\n",
      "Epoch:\t 25 \tLoss:\t 0.006731878812062393 \tAccuracy:\t 96.43643276414087 %\n",
      "Epoch:\t 26 \tLoss:\t 0.006463154553860573 \tAccuracy:\t 96.5498265741729 %\n",
      "Epoch:\t 27 \tLoss:\t 0.00618521278308413 \tAccuracy:\t 96.69490394877268 %\n",
      "Epoch:\t 28 \tLoss:\t 0.005942737415801771 \tAccuracy:\t 96.81830309498399 %\n",
      "Epoch:\t 29 \tLoss:\t 0.005711682294326141 \tAccuracy:\t 96.9233591248666 %\n",
      "Epoch:\t 30 \tLoss:\t 0.0055048182577840474 \tAccuracy:\t 96.96838313767343 %\n",
      "Epoch:\t 31 \tLoss:\t 0.005326636912791016 \tAccuracy:\t 97.03175026680897 %\n",
      "Epoch:\t 32 \tLoss:\t 0.0051295677712792625 \tAccuracy:\t 97.12680096051227 %\n",
      "Epoch:\t 33 \tLoss:\t 0.004949670338712761 \tAccuracy:\t 97.21851654215581 %\n",
      "Epoch:\t 34 \tLoss:\t 0.004794317310356762 \tAccuracy:\t 97.28188367129135 %\n",
      "Epoch:\t 35 \tLoss:\t 0.004642955632451556 \tAccuracy:\t 97.39027481323373 %\n",
      "Epoch:\t 36 \tLoss:\t 0.004527049009148038 \tAccuracy:\t 97.4886606189968 %\n",
      "Epoch:\t 37 \tLoss:\t 0.004392405825284946 \tAccuracy:\t 97.5370197438634 %\n",
      "Epoch:\t 38 \tLoss:\t 0.004255112589017403 \tAccuracy:\t 97.60705709711846 %\n",
      "Epoch:\t 39 \tLoss:\t 0.004162885820485433 \tAccuracy:\t 97.64874599786553 %\n",
      "Epoch:\t 40 \tLoss:\t 0.00406179426521884 \tAccuracy:\t 97.68543223052295 %\n",
      "Epoch:\t 41 \tLoss:\t 0.003951591353279368 \tAccuracy:\t 97.74046157950907 %\n",
      "Epoch:\t 42 \tLoss:\t 0.003857281500301969 \tAccuracy:\t 97.81550160085379 %\n",
      "Epoch:\t 43 \tLoss:\t 0.003780616481713537 \tAccuracy:\t 97.84051494130203 %\n",
      "Epoch:\t 44 \tLoss:\t 0.0037030711890949286 \tAccuracy:\t 97.90554962646745 %\n",
      "Epoch:\t 45 \tLoss:\t 0.0036374693335022253 \tAccuracy:\t 97.92222518676627 %\n",
      "Epoch:\t 46 \tLoss:\t 0.003566837536357016 \tAccuracy:\t 97.91889007470651 %\n",
      "Epoch:\t 47 \tLoss:\t 0.0035026291337954445 \tAccuracy:\t 97.99893276414087 %\n",
      "Epoch:\t 48 \tLoss:\t 0.0034611480650264606 \tAccuracy:\t 97.99226254002134 %\n",
      "Epoch:\t 49 \tLoss:\t 0.0033895802372918868 \tAccuracy:\t 98.03061632870865 %\n",
      "Epoch:\t 50 \tLoss:\t 0.0033656038935407293 \tAccuracy:\t 98.04395677694771 %\n"
     ]
    }
   ],
   "source": [
    "# 定义模型 & 训练模型\n",
    "NN = TwoLayerNeuralNetwork(\n",
    "    x_train, y_train, hidden_cells=128, batch=64, lr=0.05, epochs=50, lambd=0.001, decay_rate=0)\n",
    "NN.train(IS_PRINT=True)"
   ]
  },
  {
   "cell_type": "code",
   "execution_count": null,
   "metadata": {},
   "outputs": [],
   "source": []
  },
  {
   "cell_type": "code",
   "execution_count": null,
   "metadata": {},
   "outputs": [],
   "source": [
    "# 参数查找\n",
    "hidden_cells_nums = [32, 64, 128]\n",
    "lrs = [0.05, 0.01, 0.005]\n",
    "lambds = [0, 0.001, 0.01]"
   ]
  },
  {
   "cell_type": "code",
   "execution_count": null,
   "metadata": {},
   "outputs": [],
   "source": [
    "best_config = {'accuracy' : 0}\n",
    "for hidden_cells_num in hidden_cells_nums:\n",
    "    for lr in lrs:\n",
    "        for lambd in lambds:\n",
    "            print(f\"*****hidden_cells:{hidden_cells_num},learning_rate:{lr},lambds:{lambd}\")\n",
    "            model = TwoLayerNeuralNetwork(x_train, y_train,hidden_cells=hidden_cells_num, batch=64, lr=lr, epochs=50, lambd=lambd)\n",
    "            model.train(IS_PRINT=True)\n",
    "            accuracy = self.acc[-1]\n",
    "            print(\"accuracy:\", accuracy)\n",
    "            if accuracy > best_config['accuracy']:\n",
    "                best_config['accuracy'] = accuracy\n",
    "                best_config['hidden_cells'] = hidden_cells_num\n",
    "                best_config['learning_rate'] = lr\n",
    "                best_config['lambd'] = lambd\n",
    "            "
   ]
  },
  {
   "cell_type": "code",
   "execution_count": null,
   "metadata": {},
   "outputs": [],
   "source": [
    "model = TwoLayerNeuralNetwork(x_train, y_train,hidden_cells=hidden_cells_num, batch=64, lr=lr, epochs=50, lambd=lambd)\n",
    "model.load_model(filename) # 这里填写对应的文件名"
   ]
  },
  {
   "cell_type": "code",
   "execution_count": null,
   "metadata": {},
   "outputs": [],
   "source": [
    "# 利用测试集测试准确率\n",
    "NN.test(x_test, y_test)"
   ]
  },
  {
   "cell_type": "code",
   "execution_count": 8,
   "metadata": {},
   "outputs": [
    {
     "data": {
      "image/png": "[encoded data removed]",
      "text/plain": [
       "<Figure size 432x288 with 1 Axes>"
      ]
     },
     "metadata": {
      "needs_background": "light"
     },
     "output_type": "display_data"
    }
   ],
   "source": [
    "# loss可视化\n",
    "NN.plot_loss()"
   ]
  },
  {
   "cell_type": "code",
   "execution_count": 9,
   "metadata": {},
   "outputs": [
    {
     "data": {
      "image/png": "[encoded data removed]",
      "text/plain": [
       "<Figure size 432x288 with 1 Axes>"
      ]
     },
     "metadata": {
      "needs_background": "light"
     },
     "output_type": "display_data"
    }
   ],
   "source": [
    "# acc可视化\n",
    "NN.plot_acc()"
   ]
  },
  {
   "cell_type": "code",
   "execution_count": 11,
   "metadata": {},
   "outputs": [
    {
     "data": {
      "text/plain": [
       "(array([8.0000e+00, 8.2000e+01, 1.1230e+03, 7.3020e+03, 2.3868e+04,\n",
       "        3.4996e+04, 2.4159e+04, 7.6000e+03, 1.1280e+03, 8.6000e+01]),\n",
       " array([-0.49938874, -0.40897452, -0.31856029, -0.22814607, -0.13773184,\n",
       "        -0.04731762,  0.04309661,  0.13351083,  0.22392506,  0.31433928,\n",
       "         0.40475351]),\n",
       " <BarContainer object of 10 artists>)"
      ]
     },
     "execution_count": 11,
     "metadata": {},
     "output_type": "execute_result"
    },
    {
     "data": {
      "image/png": "[encoded data removed]",
      "text/plain": [
       "<Figure size 432x288 with 1 Axes>"
      ]
     },
     "metadata": {
      "needs_background": "light"
     },
     "output_type": "display_data"
    }
   ],
   "source": [
    "plt.hist(NN.w1.flatten().tolist())"
   ]
  },
  {
   "cell_type": "code",
   "execution_count": 12,
   "metadata": {},
   "outputs": [
    {
     "data": {
      "text/plain": [
       "(array([ 2.,  5.,  9., 10., 23., 20., 24., 18.,  9.,  8.]),\n",
       " array([-2.40965858, -1.9866888 , -1.56371902, -1.14074924, -0.71777945,\n",
       "        -0.29480967,  0.12816011,  0.55112989,  0.97409967,  1.39706945,\n",
       "         1.82003923]),\n",
       " <BarContainer object of 10 artists>)"
      ]
     },
     "execution_count": 12,
     "metadata": {},
     "output_type": "execute_result"
    },
    {
     "data": {
      "image/png": "[encoded data removed]",
      "text/plain": [
       "<Figure size 432x288 with 1 Axes>"
      ]
     },
     "metadata": {
      "needs_background": "light"
     },
     "output_type": "display_data"
    }
   ],
   "source": [
    "plt.hist(NN.b1.flatten().tolist())"
   ]
  },
  {
   "cell_type": "code",
   "execution_count": 13,
   "metadata": {},
   "outputs": [
    {
     "data": {
      "text/plain": [
       "(array([  1.,  16.,  46., 127., 317., 387., 232.,  94.,  53.,   7.]),\n",
       " array([-0.93201928, -0.75856966, -0.58512004, -0.41167042, -0.2382208 ,\n",
       "        -0.06477118,  0.10867844,  0.28212807,  0.45557769,  0.62902731,\n",
       "         0.80247693]),\n",
       " <BarContainer object of 10 artists>)"
      ]
     },
     "execution_count": 13,
     "metadata": {},
     "output_type": "execute_result"
    },
    {
     "data": {
      "image/png": "[encoded data removed]",
      "text/plain": [
       "<Figure size 432x288 with 1 Axes>"
      ]
     },
     "metadata": {
      "needs_background": "light"
     },
     "output_type": "display_data"
    }
   ],
   "source": [
    "plt.hist(NN.w2.flatten().tolist())"
   ]
  },
  {
   "cell_type": "code",
   "execution_count": 14,
   "metadata": {},
   "outputs": [
    {
     "data": {
      "text/plain": [
       "(array([3., 0., 3., 1., 1., 1., 0., 0., 0., 1.]),\n",
       " array([-1.49520812, -1.13593309, -0.77665806, -0.41738303, -0.058108  ,\n",
       "         0.30116703,  0.66044206,  1.01971709,  1.37899211,  1.73826714,\n",
       "         2.09754217]),\n",
       " <BarContainer object of 10 artists>)"
      ]
     },
     "execution_count": 14,
     "metadata": {},
     "output_type": "execute_result"
    },
    {
     "data": {
      "image/png": "[encoded data removed]",
      "text/plain": [
       "<Figure size 432x288 with 1 Axes>"
      ]
     },
     "metadata": {
      "needs_background": "light"
     },
     "output_type": "display_data"
    }
   ],
   "source": [
    "plt.hist(NN.b2.flatten().tolist())"
   ]
  },
  {
   "cell_type": "code",
   "execution_count": null,
   "metadata": {},
   "outputs": [],
   "source": []
  }
 ],
 "metadata": {
  "interpreter": {
   "hash": "62350179273b80fb9c300cff804d28b4147c6fe74180aaca4cdf7e79fc22d53b"
  },
  "kernelspec": {
   "display_name": "Python 3 (ipykernel)",
   "language": "python",
   "name": "python3"
  },
  "language_info": {
   "codemirror_mode": {
    "name": "ipython",
    "version": 3
   },
   "file_extension": ".py",
   "mimetype": "text/x-python",
   "name": "python",
   "nbconvert_exporter": "python",
   "pygments_lexer": "ipython3",
   "version": "3.7.11"
  }
 },
 "nbformat": 4,
 "nbformat_minor": 4
}
